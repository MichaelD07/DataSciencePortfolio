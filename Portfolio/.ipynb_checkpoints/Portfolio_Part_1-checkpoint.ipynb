{
 "cells": [
  {
   "cell_type": "markdown",
   "id": "03bfe56f",
   "metadata": {},
   "source": [
    "### Analysis of MovieLens Data\n",
    "\n",
    "We are provided with the MovieLens data collected by the GroupLens Research Project at the University of Minnesota.\n",
    "In particular, the data was collected through the MovieLens web site (movielens.umn.edu), which records a number of users' ratings (1-5) towards their watched movies. Besides, simple demographic info (e.g., age and gender) for the users and descriptive info (e.g., title and genre) for the movies are provided. \n",
    "\n",
    "Originally, there are several separate files to record the user-movie rating info, user demographic info and movie descriptive info, we have conducted preliminary processing to map and merge the data into one csv file named 'movielens_data.csv'. The header of the csv file is shown below. \n",
    "\n",
    "| userId | age | gender | occupation| movieId | rating | genre | timestamp |\n",
    "    | ---- | ---- | ---- | ---- | ---- | ---- | ---- | ---- | \n",
    "    \n",
    "#### Description of Fields\n",
    "\n",
    "* __userId__ - the user's id\n",
    "* __age__ - the user's age\n",
    "* __gender__ - the user's gender\n",
    "* __occupation__ - the user's occupation\n",
    "* __movieId__ - the movie's id\n",
    "* __rating__ - the user's rating towards the movie\n",
    "* __genre__ - the genre of the movie\n",
    "* __timestamp__ - the timestamp indicating when the user rated the movie\n",
    "\n",
    "Note that, a same user (i.e., a same userId) corresponds to a same age/gender/occupation; a same movie (i.e., a same movieId) corresponds to a same genre; a same user (i.e., a same userId) may rate multiple movies and a same movie (i.e., a same movieId) may receive ratings from multiple users.\n",
    "\n",
    "There are four questions to explore with the data as shown below."
   ]
  },
  {
   "cell_type": "code",
   "execution_count": 1,
   "id": "026b79eb",
   "metadata": {},
   "outputs": [],
   "source": [
    "import pandas as pd\n",
    "import numpy as np\n",
    "import matplotlib.pyplot as plt\n",
    "%matplotlib inline\n",
    "\n",
    "movies = 'movielens_data.csv'"
   ]
  },
  {
   "cell_type": "code",
   "execution_count": 2,
   "id": "1cbdaaec",
   "metadata": {},
   "outputs": [
    {
     "data": {
      "text/html": [
       "<div>\n",
       "<style scoped>\n",
       "    .dataframe tbody tr th:only-of-type {\n",
       "        vertical-align: middle;\n",
       "    }\n",
       "\n",
       "    .dataframe tbody tr th {\n",
       "        vertical-align: top;\n",
       "    }\n",
       "\n",
       "    .dataframe thead th {\n",
       "        text-align: right;\n",
       "    }\n",
       "</style>\n",
       "<table border=\"1\" class=\"dataframe\">\n",
       "  <thead>\n",
       "    <tr style=\"text-align: right;\">\n",
       "      <th></th>\n",
       "      <th>userId</th>\n",
       "      <th>age</th>\n",
       "      <th>gender</th>\n",
       "      <th>occupation</th>\n",
       "      <th>movieId</th>\n",
       "      <th>rating</th>\n",
       "      <th>genre</th>\n",
       "      <th>timestamp</th>\n",
       "    </tr>\n",
       "  </thead>\n",
       "  <tbody>\n",
       "    <tr>\n",
       "      <th>0</th>\n",
       "      <td>196</td>\n",
       "      <td>49.0</td>\n",
       "      <td>M</td>\n",
       "      <td>writer</td>\n",
       "      <td>242</td>\n",
       "      <td>3.0</td>\n",
       "      <td>Comedy</td>\n",
       "      <td>881250949</td>\n",
       "    </tr>\n",
       "    <tr>\n",
       "      <th>1</th>\n",
       "      <td>186</td>\n",
       "      <td>39.0</td>\n",
       "      <td>F</td>\n",
       "      <td>executive</td>\n",
       "      <td>302</td>\n",
       "      <td>NaN</td>\n",
       "      <td>Crime</td>\n",
       "      <td>891717742</td>\n",
       "    </tr>\n",
       "    <tr>\n",
       "      <th>2</th>\n",
       "      <td>22</td>\n",
       "      <td>25.0</td>\n",
       "      <td>M</td>\n",
       "      <td>writer</td>\n",
       "      <td>377</td>\n",
       "      <td>1.0</td>\n",
       "      <td>Children</td>\n",
       "      <td>878887116</td>\n",
       "    </tr>\n",
       "    <tr>\n",
       "      <th>3</th>\n",
       "      <td>244</td>\n",
       "      <td>28.0</td>\n",
       "      <td>M</td>\n",
       "      <td>technician</td>\n",
       "      <td>51</td>\n",
       "      <td>2.0</td>\n",
       "      <td>Romance</td>\n",
       "      <td>880606923</td>\n",
       "    </tr>\n",
       "    <tr>\n",
       "      <th>4</th>\n",
       "      <td>166</td>\n",
       "      <td>47.0</td>\n",
       "      <td>NaN</td>\n",
       "      <td>educator</td>\n",
       "      <td>346</td>\n",
       "      <td>1.0</td>\n",
       "      <td>Drama</td>\n",
       "      <td>886397596</td>\n",
       "    </tr>\n",
       "    <tr>\n",
       "      <th>5</th>\n",
       "      <td>298</td>\n",
       "      <td>44.0</td>\n",
       "      <td>M</td>\n",
       "      <td>executive</td>\n",
       "      <td>474</td>\n",
       "      <td>4.0</td>\n",
       "      <td>War</td>\n",
       "      <td>884182806</td>\n",
       "    </tr>\n",
       "    <tr>\n",
       "      <th>6</th>\n",
       "      <td>115</td>\n",
       "      <td>NaN</td>\n",
       "      <td>M</td>\n",
       "      <td>engineer</td>\n",
       "      <td>265</td>\n",
       "      <td>2.0</td>\n",
       "      <td>Action</td>\n",
       "      <td>881171488</td>\n",
       "    </tr>\n",
       "    <tr>\n",
       "      <th>7</th>\n",
       "      <td>253</td>\n",
       "      <td>26.0</td>\n",
       "      <td>F</td>\n",
       "      <td>librarian</td>\n",
       "      <td>465</td>\n",
       "      <td>5.0</td>\n",
       "      <td>Adventure</td>\n",
       "      <td>891628467</td>\n",
       "    </tr>\n",
       "    <tr>\n",
       "      <th>8</th>\n",
       "      <td>305</td>\n",
       "      <td>23.0</td>\n",
       "      <td>M</td>\n",
       "      <td>programmer</td>\n",
       "      <td>451</td>\n",
       "      <td>3.0</td>\n",
       "      <td>Romance</td>\n",
       "      <td>886324817</td>\n",
       "    </tr>\n",
       "    <tr>\n",
       "      <th>9</th>\n",
       "      <td>6</td>\n",
       "      <td>42.0</td>\n",
       "      <td>M</td>\n",
       "      <td>executive</td>\n",
       "      <td>86</td>\n",
       "      <td>3.0</td>\n",
       "      <td>Drama</td>\n",
       "      <td>883603013</td>\n",
       "    </tr>\n",
       "    <tr>\n",
       "      <th>10</th>\n",
       "      <td>62</td>\n",
       "      <td>27.0</td>\n",
       "      <td>F</td>\n",
       "      <td>administrator</td>\n",
       "      <td>257</td>\n",
       "      <td>2.0</td>\n",
       "      <td>Sci-Fi</td>\n",
       "      <td>879372434</td>\n",
       "    </tr>\n",
       "    <tr>\n",
       "      <th>11</th>\n",
       "      <td>286</td>\n",
       "      <td>27.0</td>\n",
       "      <td>M</td>\n",
       "      <td>student</td>\n",
       "      <td>1014</td>\n",
       "      <td>5.0</td>\n",
       "      <td>Comedy</td>\n",
       "      <td>879781125</td>\n",
       "    </tr>\n",
       "    <tr>\n",
       "      <th>12</th>\n",
       "      <td>200</td>\n",
       "      <td>40.0</td>\n",
       "      <td>M</td>\n",
       "      <td>programmer</td>\n",
       "      <td>222</td>\n",
       "      <td>5.0</td>\n",
       "      <td>Sci-Fi</td>\n",
       "      <td>876042340</td>\n",
       "    </tr>\n",
       "    <tr>\n",
       "      <th>13</th>\n",
       "      <td>210</td>\n",
       "      <td>39.0</td>\n",
       "      <td>M</td>\n",
       "      <td>engineer</td>\n",
       "      <td>40</td>\n",
       "      <td>3.0</td>\n",
       "      <td>Comedy</td>\n",
       "      <td>891035994</td>\n",
       "    </tr>\n",
       "    <tr>\n",
       "      <th>14</th>\n",
       "      <td>224</td>\n",
       "      <td>31.0</td>\n",
       "      <td>NaN</td>\n",
       "      <td>educator</td>\n",
       "      <td>29</td>\n",
       "      <td>3.0</td>\n",
       "      <td>Action</td>\n",
       "      <td>888104457</td>\n",
       "    </tr>\n",
       "    <tr>\n",
       "      <th>15</th>\n",
       "      <td>303</td>\n",
       "      <td>19.0</td>\n",
       "      <td>M</td>\n",
       "      <td>student</td>\n",
       "      <td>785</td>\n",
       "      <td>3.0</td>\n",
       "      <td>Romance</td>\n",
       "      <td>879485318</td>\n",
       "    </tr>\n",
       "    <tr>\n",
       "      <th>16</th>\n",
       "      <td>122</td>\n",
       "      <td>32.0</td>\n",
       "      <td>F</td>\n",
       "      <td>writer</td>\n",
       "      <td>387</td>\n",
       "      <td>5.0</td>\n",
       "      <td>Drama</td>\n",
       "      <td>879270459</td>\n",
       "    </tr>\n",
       "    <tr>\n",
       "      <th>17</th>\n",
       "      <td>194</td>\n",
       "      <td>38.0</td>\n",
       "      <td>M</td>\n",
       "      <td>administrator</td>\n",
       "      <td>274</td>\n",
       "      <td>2.0</td>\n",
       "      <td>Comedy</td>\n",
       "      <td>879539794</td>\n",
       "    </tr>\n",
       "    <tr>\n",
       "      <th>18</th>\n",
       "      <td>291</td>\n",
       "      <td>19.0</td>\n",
       "      <td>M</td>\n",
       "      <td>student</td>\n",
       "      <td>1042</td>\n",
       "      <td>4.0</td>\n",
       "      <td>Mystery</td>\n",
       "      <td>874834944</td>\n",
       "    </tr>\n",
       "    <tr>\n",
       "      <th>19</th>\n",
       "      <td>234</td>\n",
       "      <td>60.0</td>\n",
       "      <td>NaN</td>\n",
       "      <td>retired</td>\n",
       "      <td>1184</td>\n",
       "      <td>NaN</td>\n",
       "      <td>Documentary</td>\n",
       "      <td>892079237</td>\n",
       "    </tr>\n",
       "  </tbody>\n",
       "</table>\n",
       "</div>"
      ],
      "text/plain": [
       "    userId   age gender     occupation  movieId  rating        genre  \\\n",
       "0      196  49.0      M         writer      242     3.0       Comedy   \n",
       "1      186  39.0      F      executive      302     NaN        Crime   \n",
       "2       22  25.0      M         writer      377     1.0     Children   \n",
       "3      244  28.0      M     technician       51     2.0      Romance   \n",
       "4      166  47.0    NaN       educator      346     1.0        Drama   \n",
       "5      298  44.0      M      executive      474     4.0          War   \n",
       "6      115   NaN      M       engineer      265     2.0       Action   \n",
       "7      253  26.0      F      librarian      465     5.0    Adventure   \n",
       "8      305  23.0      M     programmer      451     3.0      Romance   \n",
       "9        6  42.0      M      executive       86     3.0        Drama   \n",
       "10      62  27.0      F  administrator      257     2.0       Sci-Fi   \n",
       "11     286  27.0      M        student     1014     5.0       Comedy   \n",
       "12     200  40.0      M     programmer      222     5.0       Sci-Fi   \n",
       "13     210  39.0      M       engineer       40     3.0       Comedy   \n",
       "14     224  31.0    NaN       educator       29     3.0       Action   \n",
       "15     303  19.0      M        student      785     3.0      Romance   \n",
       "16     122  32.0      F         writer      387     5.0        Drama   \n",
       "17     194  38.0      M  administrator      274     2.0       Comedy   \n",
       "18     291  19.0      M        student     1042     4.0      Mystery   \n",
       "19     234  60.0    NaN        retired     1184     NaN  Documentary   \n",
       "\n",
       "    timestamp  \n",
       "0   881250949  \n",
       "1   891717742  \n",
       "2   878887116  \n",
       "3   880606923  \n",
       "4   886397596  \n",
       "5   884182806  \n",
       "6   881171488  \n",
       "7   891628467  \n",
       "8   886324817  \n",
       "9   883603013  \n",
       "10  879372434  \n",
       "11  879781125  \n",
       "12  876042340  \n",
       "13  891035994  \n",
       "14  888104457  \n",
       "15  879485318  \n",
       "16  879270459  \n",
       "17  879539794  \n",
       "18  874834944  \n",
       "19  892079237  "
      ]
     },
     "execution_count": 2,
     "metadata": {},
     "output_type": "execute_result"
    }
   ],
   "source": [
    "movies = pd.read_csv('movielens_data.csv')\n",
    "movies.head(20)"
   ]
  },
  {
   "cell_type": "markdown",
   "id": "55934c71",
   "metadata": {},
   "source": [
    "#### Q1. Remove missing data\n",
    " \n",
    "Please remove the following records in the csv file: \n",
    " \n",
    " * age/gender/rating is missing\n",
    " * occupation is 'none'\n",
    "\n",
    "__Print the length of the data__ before and after removing the missing data.  "
   ]
  },
  {
   "cell_type": "markdown",
   "id": "a8413807",
   "metadata": {},
   "source": [
    "### Length of Data With Non-Values"
   ]
  },
  {
   "cell_type": "code",
   "execution_count": 3,
   "id": "b2f0a9f6",
   "metadata": {},
   "outputs": [
    {
     "data": {
      "text/plain": [
       "(100000, 8)"
      ]
     },
     "execution_count": 3,
     "metadata": {},
     "output_type": "execute_result"
    }
   ],
   "source": [
    "# code and solutions\n",
    "movies.shape"
   ]
  },
  {
   "cell_type": "markdown",
   "id": "f0e36cdb",
   "metadata": {},
   "source": [
    "### Length of Data After Removing Non-Values"
   ]
  },
  {
   "cell_type": "code",
   "execution_count": 4,
   "id": "33b6248d",
   "metadata": {},
   "outputs": [
    {
     "data": {
      "text/plain": [
       "(99952, 8)"
      ]
     },
     "execution_count": 4,
     "metadata": {},
     "output_type": "execute_result"
    }
   ],
   "source": [
    "movies_reviews = movies.dropna()\n",
    "movies_reviews.shape"
   ]
  },
  {
   "cell_type": "code",
   "execution_count": 5,
   "id": "42bdc9b9",
   "metadata": {},
   "outputs": [
    {
     "data": {
      "text/plain": [
       "(99022, 8)"
      ]
     },
     "execution_count": 5,
     "metadata": {},
     "output_type": "execute_result"
    }
   ],
   "source": [
    "new_stats = movies_reviews[movies_reviews['occupation'] != 'none']\n",
    "new_stats.shape"
   ]
  },
  {
   "cell_type": "markdown",
   "id": "063e08bf",
   "metadata": {},
   "source": [
    "#### Q2. Descriptive statistics\n",
    "\n",
    "With the cleaned data in Q1, please provide the data summarization as below:\n",
    "\n",
    "* Q2.1 total number of unique users, unique occupations, unique movies, and unique genres\n",
    "* Q2.2 descriptive statistics, e.g., the total number, mean, std, min and max regarding all rating records\n",
    "* Q2.3 descriptive statistics, e.g., mean, std, max, and min of the number of movies rated by each user \n",
    "* Q2.4 descriptive statistics, e.g., mean, std, max, min of the number of ratings that received by each movie \n"
   ]
  },
  {
   "cell_type": "markdown",
   "id": "e4acee02",
   "metadata": {},
   "source": [
    "### Unique Values"
   ]
  },
  {
   "cell_type": "code",
   "execution_count": 6,
   "id": "d7662c9a",
   "metadata": {},
   "outputs": [
    {
     "name": "stdout",
     "output_type": "stream",
     "text": [
      "[196  22 244 298 253 305   6  62 286 200 210 303 122 194 291 119 167 299\n",
      " 308  95  38 102  63  50 301 225 290  97 157 181 278 276   7  10 284 201\n",
      " 287 246 242 249 178 251  81 260  25  59  72  87 292 115  20  13 138  60\n",
      " 223 189 243  92 241 254 293 222 267  42  11   8 162 279 145  28 135  32\n",
      "  90 216 166 250 271 160 265 198 168 110  58 237  94 128  44 264  41 224\n",
      "  82 262 174  43  84 269  99 259  85 213 121  49 155  68 172  19 268   5\n",
      "  80  66  18  26   1  56  15 207 232  52 161 148 125  83 272 151  54  16\n",
      "  91 294 229  36  70  14 295 233 214 192 100 307 234 297 193 113 275 219\n",
      " 218 123 158 302  23 296  33 154  77 270 187 170 101 184 112 133 215  69\n",
      " 104 240 144 191  61 177 203  21 197 134 180 236 263  64 114 239 117  65\n",
      " 137 257 111 285  96 116  73 221 235 164 281 182 129  45 131 230 126 231\n",
      " 280 288 152  79  75 245 282  78 118 283 171 107 226 185 150 274 188  48\n",
      " 311 208   2 205 248  93 159 217 146  29 156  37 141 186 195 306 108  47\n",
      " 173 255 109  89 140 190  24  17 313  53 124 149 176 106 312 175 153 220\n",
      " 143 199 202 277 206  76 314 136 179   4 304 165   3 227 252 212 310  35\n",
      " 147 105  34  71  51 204 315  31 316 103 318 142  30  46 209 261  88   9\n",
      " 247 321 266  74 238 319 323  67 211  98  12  40 258 228 325 320 326 327\n",
      " 183 328 322 330  27 331 332 329  86 139 300 163 333 334  39 324 132 336\n",
      " 335 169 338 339 309 342 340 317 341 120 343 344 345 346 347 273  55 349\n",
      " 348 354 351 358 352 360 363 355 362 357 356 361 365 350 367 368 371 373\n",
      " 370 374 372 337 378 366 377 375 359 379 380 381 385 382 387 364 369 388\n",
      " 386 389 383 390 393 392 376 394 391 398 397 399 396 401 402 384 395 353\n",
      " 403 405 400 406 407 409 404 413 416 408 410 411 417 412 420 422 425 419\n",
      " 415 423 429 428 427 424 432 421 435 433 426 436 430 434 437 438 431 442\n",
      " 440 445 447 449 450 446 439 451 452 454 453 414 455 444 448 457 456 458\n",
      " 462 459 460 461 467 468 466 472 465 463 471 474 469 464 476 478 473 470\n",
      " 480 441 479 484 486 487 482 481 492 493 490 489 483 496 494 495 477 497\n",
      " 488 498 499 491 500 502 503 504 505 506 443 507 514 508 511 515 512 513\n",
      " 475 523 518 509 516 510 524 501 525 521 520 519 528 532 530 531 529 517\n",
      " 527 485 533 535 536 526 537 534 541 538 542 545 539 547 543 548 546 522\n",
      " 551 544 553 552 540 554 550 556 559 560 561 563 566 557 558 564 565 573\n",
      " 549 567 569 562 576 577 579 574 555 572 575 584 588 587 568 586 585 582\n",
      " 591 581 592 580 590 593 583 596 570 599 589 594 597 578 601 602 600 605\n",
      " 603 595 606 608 607 610 611 617 618 614 609 615 616 620 571 619 613 622\n",
      " 621 604 624 612 627 623 625 629 633 632 631 634 639 630 642 637 640 626\n",
      " 643 598 638 635 644 636 645 648 647 650 651 654 653 655 649 658 656 660\n",
      " 659 646 663 664 665 666 661 662 667 641 668 673 671 669 676 674 652 677\n",
      " 682 679 684 685 683 691 672 692 690 689 686 693 688 697 698 670 694 680\n",
      " 705 701 699 704 707 700 687 695 675 708 709 711 710 712 715 713 716 681\n",
      " 678 719 702 721 714 717 718 696 722 724 727 725 706 720 729 726 728 703\n",
      " 738 736 734 730 743 742 737 733 745 740 735 747 723 739 749 748 746 731\n",
      " 750 741 751 757 752 758 732 762 744 754 753 763 764 767 769 755 771 768\n",
      " 773 765 772 766 774 760 761 777 759 776 780 779 778 782 786 784 770 788\n",
      " 789 790 787 783 785 794 781 796 795 793 798 791 802 800 804 803 775 792\n",
      " 799 805 806 807 797 801 809 815 817 821 818 814 812 823 825 827 829 811\n",
      " 830 826 831 819 828 808 835 833 836 816 838 839 840 832 810 844 843 834\n",
      " 846 837 813 842 847 848 822 852 851 849 854 850 858 853 855 824 845 841\n",
      " 859 862 856 820 863 860 857 864 865 868 867 861 870 871 875 876 872 866\n",
      " 877 873 880 878 869 881 879 883 882 884 886 885 889 874 892 890 893 887\n",
      " 891 894 896 897 901 899 903 904 907 905 902 898 895 906 900 908 916 911\n",
      " 912 914 918 919 921 910 913 915 922 923 928 927 924 929 931 917 932 909\n",
      " 934 933 935 938 940 888 925 942 937 926 943 939 936 930 920 941]\n",
      "['writer' 'technician' 'executive' 'librarian' 'programmer'\n",
      " 'administrator' 'student' 'engineer' 'other' 'doctor' 'retired'\n",
      " 'marketing' 'artist' 'lawyer' 'salesman' 'educator' 'homemaker'\n",
      " 'healthcare' 'entertainment' 'scientist']\n",
      "[ 242  377   51 ... 1637 1630 1641]\n",
      "['Comedy' 'Children' 'Romance' 'War' 'Adventure' 'Drama' 'Sci-Fi'\n",
      " 'Mystery' 'Action' 'Musical' 'Thriller' 'Crime' 'Documentary' 'Animation'\n",
      " 'Horror' 'Western' 'Film-Noir' 'Fantasy' 'unknown']\n"
     ]
    }
   ],
   "source": [
    "# code and solutions\n",
    "print(new_stats.userId.unique())\n",
    "print(new_stats.occupation.unique())\n",
    "print(new_stats.movieId.unique())\n",
    "print(new_stats.genre.unique())"
   ]
  },
  {
   "cell_type": "markdown",
   "id": "fe5e9c76",
   "metadata": {},
   "source": [
    "### Description Statistic for Rating Records"
   ]
  },
  {
   "cell_type": "code",
   "execution_count": 7,
   "id": "9c74f804",
   "metadata": {},
   "outputs": [
    {
     "data": {
      "text/plain": [
       "count    99022.000000\n",
       "mean         3.527792\n",
       "std          1.125743\n",
       "min          1.000000\n",
       "25%          3.000000\n",
       "50%          4.000000\n",
       "75%          4.000000\n",
       "max          5.000000\n",
       "Name: rating, dtype: float64"
      ]
     },
     "execution_count": 7,
     "metadata": {},
     "output_type": "execute_result"
    }
   ],
   "source": [
    "new_stats.rating.describe()"
   ]
  },
  {
   "cell_type": "markdown",
   "id": "6c4de57f",
   "metadata": {},
   "source": [
    "### Description Statistic for Movies Rated by Users"
   ]
  },
  {
   "cell_type": "code",
   "execution_count": 8,
   "id": "0703ac2e",
   "metadata": {},
   "outputs": [
    {
     "name": "stdout",
     "output_type": "stream",
     "text": [
      "movieId\n",
      "1       479.552809\n",
      "2       496.643411\n",
      "3       459.500000\n",
      "4       473.980583\n",
      "5       445.238095\n",
      "           ...    \n",
      "1678    863.000000\n",
      "1679    863.000000\n",
      "1680    863.000000\n",
      "1681    896.000000\n",
      "1682    916.000000\n",
      "Name: userId, Length: 1682, dtype: float64\n",
      "movieId\n",
      "1       273.070223\n",
      "2       266.374994\n",
      "3       255.859786\n",
      "4       257.193255\n",
      "5       258.064325\n",
      "           ...    \n",
      "1678           NaN\n",
      "1679           NaN\n",
      "1680           NaN\n",
      "1681           NaN\n",
      "1682           NaN\n",
      "Name: userId, Length: 1682, dtype: float64\n",
      "movieId\n",
      "1         1\n",
      "2         1\n",
      "3         1\n",
      "4         1\n",
      "5         1\n",
      "       ... \n",
      "1678    863\n",
      "1679    863\n",
      "1680    863\n",
      "1681    896\n",
      "1682    916\n",
      "Name: userId, Length: 1682, dtype: int64\n",
      "movieId\n",
      "1       941\n",
      "2       943\n",
      "3       936\n",
      "4       940\n",
      "5       925\n",
      "       ... \n",
      "1678    863\n",
      "1679    863\n",
      "1680    863\n",
      "1681    896\n",
      "1682    916\n",
      "Name: userId, Length: 1682, dtype: int64\n"
     ]
    }
   ],
   "source": [
    "print(new_stats.groupby(['movieId'])['userId'].mean())\n",
    "print(new_stats.groupby(['movieId'])['userId'].std())\n",
    "print(new_stats.groupby(['movieId'])['userId'].min())\n",
    "print(new_stats.groupby(['movieId'])['userId'].max())"
   ]
  },
  {
   "cell_type": "markdown",
   "id": "fbc143ce",
   "metadata": {},
   "source": [
    "### Description Statistic For Rating Receive In Each Movies"
   ]
  },
  {
   "cell_type": "code",
   "execution_count": 9,
   "id": "5971a5ad",
   "metadata": {},
   "outputs": [
    {
     "name": "stdout",
     "output_type": "stream",
     "text": [
      "rating\n",
      "1.0    576.955497\n",
      "2.0    503.161911\n",
      "3.0    457.088666\n",
      "4.0    394.473213\n",
      "5.0    347.972467\n",
      "Name: movieId, dtype: float64\n",
      "rating\n",
      "1.0    398.197894\n",
      "2.0    362.263011\n",
      "3.0    338.935699\n",
      "4.0    307.331286\n",
      "5.0    285.062912\n",
      "Name: movieId, dtype: float64\n",
      "rating\n",
      "1.0    1\n",
      "2.0    1\n",
      "3.0    1\n",
      "4.0    1\n",
      "5.0    1\n",
      "Name: movieId, dtype: int64\n",
      "rating\n",
      "1.0    1678\n",
      "2.0    1680\n",
      "3.0    1682\n",
      "4.0    1674\n",
      "5.0    1656\n",
      "Name: movieId, dtype: int64\n"
     ]
    }
   ],
   "source": [
    "print(new_stats.groupby(['rating'])['movieId'].mean())\n",
    "print(new_stats.groupby(['rating'])['movieId'].std())\n",
    "print(new_stats.groupby(['rating'])['movieId'].min())\n",
    "print(new_stats.groupby(['rating'])['movieId'].max())"
   ]
  },
  {
   "cell_type": "markdown",
   "id": "7b070d5d",
   "metadata": {},
   "source": [
    "#### Q3. Plotting and Analysis\n",
    "\n",
    "Please try to explore the correlation between gender/occupation/genre and ratings; for instance, do female/male users tend to provide higher ratings than male/female users? Hint: you may use the boxplot function to plot figures for comparison (___Challenge___)\n",
    "    \n",
    "You may need to select the most suitable graphic forms for ease of presentation. Most importantly, for each figure or subfigure, please summarise ___what each plot shows___ (i.e. observations and explanations). Finally, you may need to provide an overall summary of the data."
   ]
  },
  {
   "cell_type": "markdown",
   "id": "ea546ff0",
   "metadata": {},
   "source": [
    "### Differences Between Gender Ratings"
   ]
  },
  {
   "cell_type": "code",
   "execution_count": 10,
   "id": "6c42c9c2",
   "metadata": {},
   "outputs": [
    {
     "data": {
      "text/plain": [
       "<AxesSubplot:>"
      ]
     },
     "execution_count": 10,
     "metadata": {},
     "output_type": "execute_result"
    },
    {
     "data": {
      "image/png": "[encoded data removed]",
      "text/plain": [
       "<Figure size 432x288 with 1 Axes>"
      ]
     },
     "metadata": {
      "needs_background": "light"
     },
     "output_type": "display_data"
    }
   ],
   "source": [
    "# your code and solutions\n",
    "males = new_stats[new_stats['gender'] == 'M']\n",
    "females = new_stats[new_stats['gender'] == 'F']\n",
    "males['age'].hist(histtype='stepfilled', bins = 20, alpha=.5)\n",
    "females['age'].hist(histtype='stepfilled', bins = 20, alpha=.5)"
   ]
  },
  {
   "cell_type": "markdown",
   "id": "8e1853a5",
   "metadata": {},
   "source": [
    "### Each Genre Ratings"
   ]
  },
  {
   "cell_type": "code",
   "execution_count": 11,
   "id": "57550b04",
   "metadata": {},
   "outputs": [
    {
     "data": {
      "text/plain": [
       "Text(0.5, 1.0, 'Genre Ratings')"
      ]
     },
     "execution_count": 11,
     "metadata": {},
     "output_type": "execute_result"
    },
    {
     "data": {
      "image/png": "[encoded data removed]",
      "text/plain": [
       "<Figure size 1584x864 with 1 Axes>"
      ]
     },
     "metadata": {},
     "output_type": "display_data"
    }
   ],
   "source": [
    "import seaborn as sns\n",
    "sns.set(style='whitegrid')\n",
    "plt.figure(figsize=(22,12))\n",
    "sns.boxplot(x='genre', y='rating', data=new_stats, orient=\"v\")\n",
    "plt.title('Genre Ratings')"
   ]
  },
  {
   "cell_type": "markdown",
   "id": "d18df23a",
   "metadata": {},
   "source": [
    "### Observations\n",
    "\n",
    "Both males and females are evenly distributed between ratings. However when reviewing the Genre Rating graph all genres have similar ratings and outliers with the exception of 4 genres as both genders watch more of the documentary of wars and crime related themes."
   ]
  },
  {
   "cell_type": "markdown",
   "id": "1d8d121f",
   "metadata": {},
   "source": [
    "#### Q4. Detect and remove outliers\n",
    "\n",
    "We may define outlier users and movies with three rules:\n",
    "\n",
    "* users whose age is no more than 10\n",
    "* users who rate less than 20 movies\n",
    "* movies that receives less than 10 ratings (i.e., movies that are rated by less than 10 users)\n",
    " \n",
    "Please remove the corresponding records in the csv file that involves outlier users and movies. After that, __print the length of the data__."
   ]
  },
  {
   "cell_type": "code",
   "execution_count": 13,
   "id": "1d99ecc9",
   "metadata": {},
   "outputs": [
    {
     "data": {
      "text/plain": [
       "(99020, 8)"
      ]
     },
     "execution_count": 13,
     "metadata": {},
     "output_type": "execute_result"
    }
   ],
   "source": [
    "# code and solutions\n",
    "new_stats_clean = new_stats.drop( new_stats.index[(new_stats.age < 10) & \n",
    "                                      ((new_stats['userId'] < 20) | \n",
    "                                       (new_stats['movieId'] < 10))]\n",
    "                        )\n",
    "\n",
    "\n",
    "new_stats_clean.shape"
   ]
  },
  {
   "cell_type": "code",
   "execution_count": null,
   "id": "92934371",
   "metadata": {},
   "outputs": [],
   "source": []
  }
 ],
 "metadata": {
  "kernelspec": {
   "display_name": "Python 3 (ipykernel)",
   "language": "python",
   "name": "python3"
  },
  "language_info": {
   "codemirror_mode": {
    "name": "ipython",
    "version": 3
   },
   "file_extension": ".py",
   "mimetype": "text/x-python",
   "name": "python",
   "nbconvert_exporter": "python",
   "pygments_lexer": "ipython3",
   "version": "3.9.7"
  }
 },
 "nbformat": 4,
 "nbformat_minor": 5
}
