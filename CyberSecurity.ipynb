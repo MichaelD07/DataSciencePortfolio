{
 "cells": [
  {
   "cell_type": "markdown",
   "id": "76335e02",
   "metadata": {},
   "source": [
    "Cybersecurity\n",
    "\n",
    "\n",
    "Provided here: [Crash Report](https://www.kaggle.com/datasets/deepcontractor/australian-fatal-car-accident-data-19892021)\n",
    "\n",
    "[Cybersecurity: Suspicious Web Threat Interactions](https://www.kaggle.com/datasets/jancsg/cybersecurity-suspicious-web-threat-interactions)\n",
    "    \n",
    "Provided here: [Cyber Attacks on Real-Time Internet of Things](https://www.kaggle.com/datasets/joebeachcapital/real-time-internet-of-things-rt-iot2022?resource=download)\n",
    "    \n",
    "Provided here: [Global Salaries in Cybersecurity / InfoSec](https://www.kaggle.com/datasets/infosecjobs/global-salaries-in-cybersecurity-infosec)\n",
    "    \n"
   ]
  },
  {
   "cell_type": "code",
   "execution_count": 10,
   "id": "d309c104",
   "metadata": {},
   "outputs": [],
   "source": [
    "import pandas as pd\n",
    "import numpy as np\n",
    "import matplotlib.pyplot as plt\n",
    "import seaborn as sns\n",
    "%matplotlib inline\n",
    "\n",
    "import warnings\n",
    "warnings.filterwarnings('ignore')"
   ]
  },
  {
   "cell_type": "code",
   "execution_count": 11,
   "id": "11cf6159",
   "metadata": {},
   "outputs": [],
   "source": [
    "Crash = pd.read_csv('files/CloudWatch_Traffic_Web_Attack.csv')"
   ]
  },
  {
   "cell_type": "code",
   "execution_count": null,
   "id": "113c9c92",
   "metadata": {},
   "outputs": [],
   "source": []
  },
  {
   "cell_type": "code",
   "execution_count": null,
   "id": "02335fe7",
   "metadata": {},
   "outputs": [],
   "source": []
  }
 ],
 "metadata": {
  "kernelspec": {
   "display_name": "Python 3 (ipykernel)",
   "language": "python",
   "name": "python3"
  },
  "language_info": {
   "codemirror_mode": {
    "name": "ipython",
    "version": 3
   },
   "file_extension": ".py",
   "mimetype": "text/x-python",
   "name": "python",
   "nbconvert_exporter": "python",
   "pygments_lexer": "ipython3",
   "version": "3.9.7"
  }
 },
 "nbformat": 4,
 "nbformat_minor": 5
}
